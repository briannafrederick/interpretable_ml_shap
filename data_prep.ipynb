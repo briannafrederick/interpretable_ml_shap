{
 "cells": [
  {
   "cell_type": "markdown",
   "metadata": {
    "collapsed": true,
    "pycharm": {
     "is_executing": false,
     "name": "#%% md\n"
    }
   },
   "source": [
    "### This code was written for the WiMLDS monthly meetup on February 20, 2020. This code presents examples and comparison of using SHAP and Lime for machine learning interpretability\n",
    "\n",
    "Python Version: 3.6.8\n",
    "Data Source: https://archive.ics.uci.edu/ml/datasets/Student+Performance"
   ]
  },
  {
   "cell_type": "code",
   "execution_count": 3,
   "outputs": [],
   "source": [
    "import pandas as pd\n",
    "from sklearn.feature_selection import RFE\n",
    "from sklearn.linear_model import LogisticRegression"
   ],
   "metadata": {
    "collapsed": false,
    "pycharm": {
     "name": "#%%\n",
     "is_executing": false
    }
   }
  },
  {
   "cell_type": "markdown",
   "source": [
    "### Load Data"
   ],
   "metadata": {
    "collapsed": false
   }
  },
  {
   "cell_type": "code",
   "execution_count": 4,
   "outputs": [],
   "source": [
    "student_data = pd.read_csv(\"student-mat.csv\")"
   ],
   "metadata": {
    "collapsed": false,
    "pycharm": {
     "name": "#%%\n",
     "is_executing": false
    }
   }
  },
  {
   "cell_type": "markdown",
   "source": [
    "### Data Preprocessing\n"
   ],
   "metadata": {
    "collapsed": false
   }
  },
  {
   "cell_type": "code",
   "execution_count": 8,
   "outputs": [],
   "source": [
    "student_data.dtypes\n",
    "\n",
    "# Add a binary column indicating whether or not the student passed their final year class\n",
    "# Assume that 70% is a passing grade (14 or above)\n",
    "student_data['Pass'] = 0\n",
    "student_data.loc[student_data['G3'] >= 12,'Pass'] = 1\n",
    "\n",
    "# Drop any columns with constant values\n",
    "student_data = student_data.loc[:, (student_data != student_data.iloc[0]).any()] \n",
    "\n",
    "# Encode categorical and nominal features\n",
    "\"\"\"\n",
    "Numeric: age, medu, fedu, travel time, study time, failures, famrel, free time, go out, Dalc, Walc, \n",
    "              health, absences\n",
    "Binary features: school, sex, address, famsize, pstatus, schoolsup, famsup, paid, extra curricular, \n",
    "                nursery, higher, internet, romantic\n",
    "Nominal features: mjob, fjob, reason, guardian\n",
    "\"\"\"\n",
    "\n",
    "student_data_num = student_data[['age', 'Medu', 'Fedu', 'traveltime', 'studytime', 'failures', 'famrel',\n",
    "                                'freetime', 'goout', 'Dalc', 'Walc', 'health', 'absences', 'G1', 'G2', 'G3']]\n",
    "\n",
    "# First transform objects to categorical features\n",
    "student_data_cat = student_data[['school', 'sex', 'address', 'famsize', 'Pstatus', 'schoolsup',\n",
    "                                'famsup', 'paid', 'activities', 'nursery', 'higher', 'internet', \n",
    "                                'romantic', 'Mjob', 'Fjob', 'reason', 'guardian']].astype('category')\n",
    "\n",
    "\n",
    "# One-hot encoding for categorical variables\n",
    "student_data_cat_enc = pd.get_dummies(student_data_cat)\n",
    "\n",
    "# encode output class values as integers\n",
    "y = student_data['Pass'].astype('category')\n",
    "\n",
    "# Rebuild dataset by combining numeric, encoded categorical features, and output values\n",
    "student_data_prepped = pd.concat([student_data_num, student_data_cat_enc, y], axis=1, ignore_index=False)"
   ],
   "metadata": {
    "collapsed": false,
    "pycharm": {
     "name": "#%%\n",
     "is_executing": false
    }
   }
  },
  {
   "cell_type": "markdown",
   "source": [
    "### Feature selection using recursive feature selection"
   ],
   "metadata": {
    "collapsed": false
   }
  },
  {
   "cell_type": "code",
   "execution_count": 9,
   "outputs": [
    {
     "name": "stdout",
     "text": [
      "Fitting estimator with 59 features.\nFitting estimator with 58 features.\nFitting estimator with 57 features.",
      "\n",
      "Fitting estimator with 56 features.\nFitting estimator with 55 features.\n",
      "Fitting estimator with 54 features.\n",
      "Fitting estimator with 53 features.\nFitting estimator with 52 features.\n",
      "Fitting estimator with 51 features.\nFitting estimator with 50 features.\nFitting estimator with 49 features.\n",
      "Fitting estimator with 48 features.\nFitting estimator with 47 features.",
      "\nFitting estimator with 46 features.\nFitting estimator with 45 features.\n",
      "Fitting estimator with 44 features.\nFitting estimator with 43 features.\n",
      "Fitting estimator with 42 features.\nFitting estimator with 41 features.\nFitting estimator with 40 features.\nFitting estimator with 39 features.",
      "\n",
      "Fitting estimator with 38 features.\nFitting estimator with 37 features.\nFitting estimator with 36 features.",
      "\nFitting estimator with 35 features.\n",
      "Fitting estimator with 34 features.\nFitting estimator with 33 features.\nFitting estimator with 32 features.\nFitting estimator with 31 features.\n",
      "Fitting estimator with 30 features.\nFitting estimator with 29 features.\nFitting estimator with 28 features.\nFitting estimator with 27 features.\nFitting estimator with 26 features.",
      "\nFitting estimator with 25 features.\nFitting estimator with 24 features.\nFitting estimator with 23 features.\nFitting estimator with 22 features.",
      "\nFitting estimator with 21 features.\n",
      "Num Features: 20\nSelected Features: [ True False False False False False  True False False False False False\n False  True  True  True False False  True False False False  True  True\n False False False False False False  True False False False False  True\n  True False False  True  True  True False False False  True False False\n  True False False False  True  True  True False  True False False]\nFeature Ranking: [ 1 38 14 20 15  3  1 26  2 13  7  8 31  1  1  1 16 19  1 11 34 27  1  1\n 24 21 28 25 30 32  1  5 36 39 12  1  1  9  6  1  1  1 33  4 40  1 29 18\n  1 37 35 17  1  1  1 10  1 22 23]\n"
     ],
     "output_type": "stream"
    },
    {
     "name": "stderr",
     "text": [
      "C:\\ProgramData\\Anaconda3\\lib\\site-packages\\ipykernel_launcher.py:15: SettingWithCopyWarning: \nA value is trying to be set on a copy of a slice from a DataFrame.\nTry using .loc[row_indexer,col_indexer] = value instead\n\nSee the caveats in the documentation: http://pandas.pydata.org/pandas-docs/stable/indexing.html#indexing-view-versus-copy\n  from ipykernel import kernelapp as app\n"
     ],
     "output_type": "stream"
    }
   ],
   "source": [
    "X = student_data_prepped.drop(['Pass'], axis=1)\n",
    "y = student_data_prepped['Pass']\n",
    "\n",
    "# feature selection\n",
    "model = LogisticRegression(solver='lbfgs', max_iter=500)\n",
    "rfe = RFE(model, n_features_to_select=20, step=1, verbose=1)\n",
    "fit = rfe.fit(X, y.values.ravel())\n",
    "print(\"Num Features: %d\" % fit.n_features_)\n",
    "print(\"Selected Features: %s\" % fit.support_)\n",
    "print(\"Feature Ranking: %s\" % fit.ranking_)\n",
    "\n",
    "selected_columns = fit.support_\n",
    "student_data_prepped = X.iloc[:,selected_columns]\n",
    "# Add y column to student_data_prepped\n",
    "student_data_prepped['Pass'] = y"
   ],
   "metadata": {
    "collapsed": false,
    "pycharm": {
     "name": "#%%\n",
     "is_executing": false
    }
   }
  },
  {
   "cell_type": "markdown",
   "source": [
    "### Write data to csv"
   ],
   "metadata": {
    "collapsed": false
   }
  },
  {
   "cell_type": "code",
   "execution_count": 10,
   "outputs": [],
   "source": [
    "student_data_prepped.to_csv('student_data_prepped.csv', index=False)\n"
   ],
   "metadata": {
    "collapsed": false,
    "pycharm": {
     "name": "#%%\n",
     "is_executing": false
    }
   }
  }
 ],
 "metadata": {
  "language_info": {
   "codemirror_mode": {
    "name": "ipython",
    "version": 2
   },
   "file_extension": ".py",
   "mimetype": "text/x-python",
   "name": "python",
   "nbconvert_exporter": "python",
   "pygments_lexer": "ipython2",
   "version": "2.7.6"
  },
  "kernelspec": {
   "name": "python3",
   "language": "python",
   "display_name": "Python 3"
  },
  "pycharm": {
   "stem_cell": {
    "cell_type": "raw",
    "source": [],
    "metadata": {
     "collapsed": false
    }
   }
  }
 },
 "nbformat": 4,
 "nbformat_minor": 0
}